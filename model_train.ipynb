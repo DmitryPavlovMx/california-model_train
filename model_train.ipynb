{
 "cells": [
  {
   "cell_type": "code",
   "execution_count": 1,
   "id": "870a1090-f4ae-45a0-aa93-0960f5c6478d",
   "metadata": {
    "editable": true,
    "slideshow": {
     "slide_type": ""
    },
    "tags": []
   },
   "outputs": [],
   "source": [
    "%load_ext autoreload\n",
    "%autoreload 2"
   ]
  },
  {
   "cell_type": "code",
   "execution_count": 2,
   "id": "453c78e8-6822-4123-bf9d-ed1ae9dd7bea",
   "metadata": {
    "editable": true,
    "slideshow": {
     "slide_type": ""
    },
    "tags": [
     "parameters"
    ]
   },
   "outputs": [],
   "source": [
    "# specify substep parameters for interactive run\n",
    "# this cell will be replaced during job run with the parameters from json within params subfolder\n",
    "substep_params={\n",
    "    \"param1\":\"None1\",\n",
    "    \"param2\":\"None2\"}"
   ]
  },
  {
   "cell_type": "code",
   "execution_count": 3,
   "id": "50592002-8b5f-47bd-82a7-3489fd1f5b1c",
   "metadata": {
    "editable": false,
    "slideshow": {
     "slide_type": ""
    },
    "tags": []
   },
   "outputs": [
    {
     "data": {
      "text/markdown": [
       "**Pipeline params:**\n"
      ],
      "text/plain": [
       "<IPython.core.display.Markdown object>"
      ]
     },
     "metadata": {},
     "output_type": "display_data"
    },
    {
     "name": "stdout",
     "output_type": "stream",
     "text": [
      "{'X': 'something',\n",
      " 'env_name': 'user',\n",
      " 'pipeline_name': 'pipeline',\n",
      " 'zone_name': 'zone'}\n",
      "\n",
      "\n"
     ]
    },
    {
     "data": {
      "text/markdown": [
       "**Step params:**\n"
      ],
      "text/plain": [
       "<IPython.core.display.Markdown object>"
      ]
     },
     "metadata": {},
     "output_type": "display_data"
    },
    {
     "name": "stdout",
     "output_type": "stream",
     "text": [
      "{'Y': 'something_else'}\n",
      "\n",
      "\n"
     ]
    }
   ],
   "source": [
    "# load pipeline and step parameters - do not edit\n",
    "from sinara.substep import get_pipeline_params, get_step_params\n",
    "pipeline_params = get_pipeline_params(pprint=True)\n",
    "step_params = get_step_params(pprint=True)"
   ]
  },
  {
   "cell_type": "code",
   "execution_count": 4,
   "id": "f3818420-6085-43ea-b97e-578742794e1e",
   "metadata": {
    "editable": true,
    "slideshow": {
     "slide_type": ""
    },
    "tags": [
     "interface"
    ]
   },
   "outputs": [
    {
     "data": {
      "text/markdown": [
       "**STEP NAME:**\n"
      ],
      "text/plain": [
       "<IPython.core.display.Markdown object>"
      ]
     },
     "metadata": {},
     "output_type": "display_data"
    },
    {
     "name": "stdout",
     "output_type": "stream",
     "text": [
      "'model_train'\n",
      "\n",
      "\n"
     ]
    },
    {
     "data": {
      "text/markdown": [
       "**INPUTS:**\n"
      ],
      "text/plain": [
       "<IPython.core.display.Markdown object>"
      ]
     },
     "metadata": {},
     "output_type": "display_data"
    },
    {
     "name": "stdout",
     "output_type": "stream",
     "text": [
      "[{'user.pipeline.zone.data_prep.X_train': '/data/home/jovyan/pipeline/zone/data_prep/run-25-01-14-152101/X_train'},\n",
      " {'user.pipeline.zone.data_prep.X_val': '/data/home/jovyan/pipeline/zone/data_prep/run-25-01-14-152101/X_val'},\n",
      " {'user.pipeline.zone.data_prep.X_test': '/data/home/jovyan/pipeline/zone/data_prep/run-25-01-14-152101/X_test'},\n",
      " {'user.pipeline.zone.data_prep.y_train': '/data/home/jovyan/pipeline/zone/data_prep/run-25-01-14-152101/y_train'},\n",
      " {'user.pipeline.zone.data_prep.y_val': '/data/home/jovyan/pipeline/zone/data_prep/run-25-01-14-152101/y_val'},\n",
      " {'user.pipeline.zone.data_prep.y_test': '/data/home/jovyan/pipeline/zone/data_prep/run-25-01-14-152101/y_test'}]\n",
      "\n",
      "\n"
     ]
    },
    {
     "data": {
      "text/markdown": [
       "**OUTPUTS:**\n"
      ],
      "text/plain": [
       "<IPython.core.display.Markdown object>"
      ]
     },
     "metadata": {},
     "output_type": "display_data"
    },
    {
     "name": "stdout",
     "output_type": "stream",
     "text": [
      "[{'user.pipeline.zone.model_train.california_bento': '/data/home/jovyan/pipeline/zone/model_train/run-25-01-15-050332/california_bento'}]\n",
      "\n",
      "\n"
     ]
    }
   ],
   "source": [
    "#3 define substep interface\n",
    "from sinara.substep import NotebookSubstep, ENV_NAME, PIPELINE_NAME, ZONE_NAME, STEP_NAME, RUN_ID, ENTITY_NAME, ENTITY_PATH, SUBSTEP_NAME\n",
    "\n",
    "substep = NotebookSubstep(pipeline_params, step_params, substep_params)\n",
    "\n",
    "substep.interface(\n",
    "   \n",
    "    inputs =\n",
    "    [\n",
    "        { STEP_NAME: \"data_prep\", ENTITY_NAME: \"X_train\" }, \n",
    "        { STEP_NAME: \"data_prep\", ENTITY_NAME: \"X_val\" },\n",
    "        { STEP_NAME: \"data_prep\", ENTITY_NAME: \"X_test\" },\n",
    "        { STEP_NAME: \"data_prep\", ENTITY_NAME: \"y_train\" },\n",
    "        { STEP_NAME: \"data_prep\", ENTITY_NAME: \"y_val\" },\n",
    "        { STEP_NAME: \"data_prep\", ENTITY_NAME: \"y_test\" },\n",
    "        \n",
    "    ],\n",
    "    outputs = \n",
    "    [\n",
    "        { ENTITY_NAME: \"california_bento\" }\n",
    "    ]\n",
    ")\n",
    "\n",
    "substep.print_interface_info()\n",
    "\n",
    "substep.exit_in_visualize_mode()"
   ]
  },
  {
   "cell_type": "code",
   "execution_count": 5,
   "id": "55e950c3-3151-4daf-9b98-83d3aebe216d",
   "metadata": {
    "tags": []
   },
   "outputs": [
    {
     "name": "stdout",
     "output_type": "stream",
     "text": [
      "Session is run\n"
     ]
    },
    {
     "name": "stderr",
     "output_type": "stream",
     "text": [
      "Setting default log level to \"WARN\".\n",
      "To adjust logging level use sc.setLogLevel(newLevel). For SparkR, use setLogLevel(newLevel).\n",
      "25/01/15 05:03:55 WARN NativeCodeLoader: Unable to load native-hadoop library for your platform... using builtin-java classes where applicable\n"
     ]
    },
    {
     "data": {
      "text/html": [
       "<a href='/proxy/4040/jobs/' target='blank'>Open Spark UI</a>"
      ],
      "text/plain": [
       "<IPython.core.display.HTML object>"
      ]
     },
     "metadata": {},
     "output_type": "display_data"
    }
   ],
   "source": [
    "#4 run spark\n",
    "from sinara.spark import SinaraSpark\n",
    "\n",
    "spark = SinaraSpark.run_session(0)\n",
    "SinaraSpark.ui_url()"
   ]
  },
  {
   "cell_type": "code",
   "execution_count": 6,
   "id": "70b2d9b3-051c-424c-beec-9da8f177b4ed",
   "metadata": {
    "tags": []
   },
   "outputs": [
    {
     "name": "stderr",
     "output_type": "stream",
     "text": [
      "                                                                                \r"
     ]
    }
   ],
   "source": [
    "#5 read inputs \n",
    "prev_step_inputs = substep.inputs(step_name=\"data_prep\")\n",
    "\n",
    "X_train = spark.read.parquet(prev_step_inputs.X_train).toPandas()\n",
    "X_val = spark.read.parquet(prev_step_inputs.X_val).toPandas()\n",
    "X_test = spark.read.parquet(prev_step_inputs.X_test).toPandas()\n",
    "\n",
    "y_train = spark.read.parquet(prev_step_inputs.y_train).toPandas()\n",
    "y_val = spark.read.parquet(prev_step_inputs.y_val).toPandas()\n",
    "y_test = spark.read.parquet(prev_step_inputs.y_test).toPandas()\n"
   ]
  },
  {
   "cell_type": "code",
   "execution_count": 11,
   "id": "04f8c516-079f-4473-8564-1cf66344872c",
   "metadata": {
    "tags": []
   },
   "outputs": [
    {
     "name": "stdout",
     "output_type": "stream",
     "text": [
      "Learning rate set to 0.077444\n",
      "0:\tlearn: 1.1448605\ttest: 1.1729223\tbest: 1.1729223 (0)\ttotal: 6.82ms\tremaining: 6.81s\n",
      "1:\tlearn: 1.1445400\ttest: 1.1727717\tbest: 1.1727717 (1)\ttotal: 10.4ms\tremaining: 5.19s\n",
      "2:\tlearn: 1.1442161\ttest: 1.1727156\tbest: 1.1727156 (2)\ttotal: 13.8ms\tremaining: 4.59s\n",
      "3:\tlearn: 1.1436728\ttest: 1.1726374\tbest: 1.1726374 (3)\ttotal: 17.2ms\tremaining: 4.27s\n",
      "4:\tlearn: 1.1432437\ttest: 1.1725687\tbest: 1.1725687 (4)\ttotal: 20.8ms\tremaining: 4.14s\n",
      "5:\tlearn: 1.1429398\ttest: 1.1725029\tbest: 1.1725029 (5)\ttotal: 23.5ms\tremaining: 3.9s\n",
      "6:\tlearn: 1.1426205\ttest: 1.1724558\tbest: 1.1724558 (6)\ttotal: 25.7ms\tremaining: 3.65s\n",
      "7:\tlearn: 1.1421787\ttest: 1.1726028\tbest: 1.1724558 (6)\ttotal: 28.3ms\tremaining: 3.51s\n",
      "8:\tlearn: 1.1416821\ttest: 1.1728915\tbest: 1.1724558 (6)\ttotal: 30.6ms\tremaining: 3.37s\n",
      "9:\tlearn: 1.1414192\ttest: 1.1729396\tbest: 1.1724558 (6)\ttotal: 33.9ms\tremaining: 3.35s\n",
      "10:\tlearn: 1.1411211\ttest: 1.1729788\tbest: 1.1724558 (6)\ttotal: 36.2ms\tremaining: 3.25s\n",
      "11:\tlearn: 1.1409028\ttest: 1.1729134\tbest: 1.1724558 (6)\ttotal: 39.3ms\tremaining: 3.23s\n",
      "12:\tlearn: 1.1406772\ttest: 1.1729748\tbest: 1.1724558 (6)\ttotal: 42.9ms\tremaining: 3.25s\n",
      "13:\tlearn: 1.1402992\ttest: 1.1730516\tbest: 1.1724558 (6)\ttotal: 47.3ms\tremaining: 3.33s\n",
      "14:\tlearn: 1.1398276\ttest: 1.1731399\tbest: 1.1724558 (6)\ttotal: 50ms\tremaining: 3.28s\n",
      "15:\tlearn: 1.1394299\ttest: 1.1731884\tbest: 1.1724558 (6)\ttotal: 52.2ms\tremaining: 3.21s\n",
      "16:\tlearn: 1.1391109\ttest: 1.1730772\tbest: 1.1724558 (6)\ttotal: 54.3ms\tremaining: 3.14s\n",
      "Stopped by overfitting detector  (10 iterations wait)\n",
      "\n",
      "bestTest = 1.172455821\n",
      "bestIteration = 6\n",
      "\n",
      "Shrink model to first 7 iterations.\n"
     ]
    },
    {
     "data": {
      "text/plain": [
       "<catboost.core.CatBoostRegressor at 0x7f6b54be94e0>"
      ]
     },
     "execution_count": 11,
     "metadata": {},
     "output_type": "execute_result"
    }
   ],
   "source": [
    "#6 train_model\n",
    "from catboost import CatBoostRegressor, Pool\n",
    "from sklearn.metrics import mean_absolute_percentage_error,mean_absolute_error\n",
    "\n",
    "train_pool = Pool(X_train, y_train)\n",
    "test_pool = Pool(X_val, y_val)\n",
    "cat= CatBoostRegressor(random_seed=42\n",
    "                    )\n",
    "cat.fit(X_train, y_train, \n",
    "          eval_set=test_pool, \n",
    "          use_best_model=True, \n",
    "          early_stopping_rounds=10)\n",
    "\n"
   ]
  },
  {
   "cell_type": "code",
   "execution_count": 12,
   "id": "cb055d86-b703-4961-9e34-023bf26559be",
   "metadata": {},
   "outputs": [
    {
     "name": "stdout",
     "output_type": "stream",
     "text": [
      "The root mean squared error (MAE) on eval set: 0.9237\n",
      "The root mean squared error (MAPE) on eval set: 0.6188\n"
     ]
    }
   ],
   "source": [
    "#7 check trained model quality on eval dataset using MAE and MAPE\n",
    "mae = mean_absolute_error(y_val, cat.predict(X_val))\n",
    "mape = mean_absolute_percentage_error(y_val, cat.predict(X_val))\n",
    "print(\"The root mean squared error (MAE) on eval set: {:.4f}\".format(mae))\n",
    "print(\"The root mean squared error (MAPE) on eval set: {:.4f}\".format(mape))"
   ]
  },
  {
   "cell_type": "code",
   "execution_count": 13,
   "id": "47c68c69-46d1-48d0-a239-fac8bf36c6fa",
   "metadata": {
    "tags": []
   },
   "outputs": [
    {
     "name": "stdout",
     "output_type": "stream",
     "text": [
      "[2025-01-15 05:08:32,431] WARNING - Using BentoML not from official PyPI release. In order to find the same version of BentoML when deploying your BentoService, you must set the 'core/bentoml_deploy_version' config to a http/git location of your BentoML fork, e.g.: 'bentoml_deploy_version = git+https://github.com/{username}/bentoml.git@{branch}'\n",
      "[2025-01-15 05:08:32,674] WARNING - Python 3.10.12 found in current environment is not officially supported by BentoML. The docker base image used is'bentoml/model-server:0.13.2' which will use conda to install Python 3.10.12 in the build process. Supported Python versions are: f3.6, 3.7, 3.8\n",
      "[2025-01-15 05:08:33,780] INFO - BentoService bundle 'ModelService:user.pipeline.zone.california_bento.run-25-01-15-050332' created at: /home/sinarian/work/Fetch_California_Housing/california-model_train/tmp/run-25-01-15-050332/california_bento\n"
     ]
    }
   ],
   "source": [
    "#8 create and save a bentoservice\n",
    "from model_service import ModelService\n",
    "from sinara.bentoml import save_bentoservice\n",
    "\n",
    "outputs = substep.outputs()\n",
    "test_data = {}\n",
    "test_data['X'] = X_test.to_dict(orient='records')\n",
    "test_data['Y'] = y_test.to_dict(orient='records')\n",
    "\n",
    "model = ModelService()\n",
    "model.pack('model', cat)\n",
    "model.pack('test_data', test_data)\n",
    "\n",
    "save_bentoservice(model, path=outputs.california_bento, substep=substep)"
   ]
  },
  {
   "cell_type": "code",
   "execution_count": 14,
   "id": "82ef2430-57f2-42f4-a435-f50e1edd2c0b",
   "metadata": {
    "tags": []
   },
   "outputs": [],
   "source": [
    "#8 stop spark\n",
    "SinaraSpark.stop_session()"
   ]
  },
  {
   "cell_type": "code",
   "execution_count": null,
   "id": "f725e955-4a9f-4db3-a78c-fb2dee6f3755",
   "metadata": {},
   "outputs": [],
   "source": []
  }
 ],
 "metadata": {
  "kernelspec": {
   "display_name": "ml",
   "language": "python",
   "name": "python3"
  },
  "language_info": {
   "codemirror_mode": {
    "name": "ipython",
    "version": 3
   },
   "file_extension": ".py",
   "mimetype": "text/x-python",
   "name": "python",
   "nbconvert_exporter": "python",
   "pygments_lexer": "ipython3",
   "version": "3.10.12"
  }
 },
 "nbformat": 4,
 "nbformat_minor": 5
}
